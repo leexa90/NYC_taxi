{
 "cells": [
  {
   "cell_type": "code",
   "execution_count": 2,
   "metadata": {},
   "outputs": [],
   "source": [
    "import pandas as pd\n",
    "import numpy as np\n",
    "import matplotlib.pyplot as plt\n",
    "import gmplot\n",
    "data = pd.read_csv('./train.zip')"
   ]
  },
  {
   "cell_type": "code",
   "execution_count": 3,
   "metadata": {},
   "outputs": [
    {
     "name": "stdout",
     "output_type": "stream",
     "text": [
      "(2917288, 2)\n",
      "(1458644, 11)\n"
     ]
    }
   ],
   "source": [
    "Pickup_cord = data[['pickup_longitude','pickup_latitude']].values\n",
    "Dropoff_cord = data[['dropoff_longitude','dropoff_latitude']].values\n",
    "locations = np.concatenate([Pickup_cord,Dropoff_cord])\n",
    "print locations.shape\n",
    "print data.shape"
   ]
  },
  {
   "cell_type": "code",
   "execution_count": null,
   "metadata": {},
   "outputs": [],
   "source": []
  },
  {
   "cell_type": "code",
   "execution_count": null,
   "metadata": {},
   "outputs": [],
   "source": [
    "plt.title('pickup')\n",
    "plt.xlabel('longitude');plt.ylabel('latitude')\n",
    "plt.plot(Pickup_cord[:,0],Pickup_cord[:,1],'ro',markersize=0.1)\n",
    "plt.xlim(np.percentile(Pickup_cord[:,0],0.01),np.percentile(Pickup_cord[:,0],99.99))\n",
    "plt.ylim(np.percentile(Pickup_cord[:,1],0.01),np.percentile(Pickup_cord[:,1],99.99))\n",
    "plt.show()\n",
    "plt.title('pickup')\n",
    "plt.xlabel('longitude');plt.ylabel('latitude')\n",
    "plt.plot(Dropoff_cord[:,0],Dropoff_cord[:,1],'bo',markersize=0.1)\n",
    "plt.xlim(np.percentile(Pickup_cord[:,0],0.01),np.percentile(Pickup_cord[:,0],99.99))\n",
    "plt.ylim(np.percentile(Pickup_cord[:,1],0.01),np.percentile(Pickup_cord[:,1],99.99))\n",
    "plt.show()"
   ]
  },
  {
   "cell_type": "code",
   "execution_count": null,
   "metadata": {},
   "outputs": [],
   "source": [
    "import matplotlib\n",
    "plt.title('pickup')\n",
    "plt.xlabel('longitude');plt.ylabel('latitude')\n",
    "binx = np.linspace(np.percentile(Pickup_cord[:,0],0.01),np.percentile(Pickup_cord[:,0],99.99),501)\n",
    "biny = np.linspace(np.percentile(Pickup_cord[:,1],0.01),np.percentile(Pickup_cord[:,1],99.99),501)\n",
    "bins=[binx,biny]\n",
    "a=plt.hist2d(Dropoff_cord[:,0],Dropoff_cord[:,1],bins=bins,norm=matplotlib.colors.LogNorm())\n",
    "plt.colorbar()\n",
    "plt.show()"
   ]
  },
  {
   "cell_type": "code",
   "execution_count": null,
   "metadata": {},
   "outputs": [],
   "source": [
    "from sklearn import cluster\n",
    "kmeans = cluster.MiniBatchKMeans(n_clusters=1000,batch_size=300000, verbose=1).fit(locations)\n",
    "predictions = kmeans.predict(locations)"
   ]
  },
  {
   "cell_type": "code",
   "execution_count": null,
   "metadata": {},
   "outputs": [],
   "source": [
    "from collections import Counter\n",
    "z=Counter(predictions)"
   ]
  },
  {
   "cell_type": "code",
   "execution_count": null,
   "metadata": {},
   "outputs": [],
   "source": [
    "np.log10(3*z[i])"
   ]
  },
  {
   "cell_type": "code",
   "execution_count": null,
   "metadata": {},
   "outputs": [],
   "source": [
    "\n",
    "plt.title('pickup')\n",
    "plt.xlabel('longitude');plt.ylabel('latitude')\n",
    "plt.plot(Dropoff_cord[:,0],Dropoff_cord[:,1],'bo',markersize=0.1)\n",
    "plt.xlim(np.percentile(Pickup_cord[:,0],0.01),np.percentile(Pickup_cord[:,0],99.99))\n",
    "plt.ylim(np.percentile(Pickup_cord[:,1],0.01),np.percentile(Pickup_cord[:,1],99.99))\n",
    "for i in range(100):\n",
    "    #print (np.log10(z[i]))\n",
    "    plt.plot(a.cluster_centers_[i,0],a.cluster_centers_[i,1],'go',markersize=np.log10(2*z[i]))\n",
    "plt.show()"
   ]
  }
 ],
 "metadata": {
  "kernelspec": {
   "display_name": "Python (python27)",
   "language": "python",
   "name": "python27"
  },
  "language_info": {
   "codemirror_mode": {
    "name": "ipython",
    "version": 2
   },
   "file_extension": ".py",
   "mimetype": "text/x-python",
   "name": "python",
   "nbconvert_exporter": "python",
   "pygments_lexer": "ipython2",
   "version": "2.7.16"
  }
 },
 "nbformat": 4,
 "nbformat_minor": 2
}
